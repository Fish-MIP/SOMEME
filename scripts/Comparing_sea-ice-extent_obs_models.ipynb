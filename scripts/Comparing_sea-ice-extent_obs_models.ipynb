{
 "cells": [
  {
   "cell_type": "markdown",
   "id": "4aa634e5-2bb5-44b7-a173-c1d1267d0618",
   "metadata": {},
   "source": [
    "# Comparing sea ice extent from observations and Earth System Models\n",
    "Sea ice extent was calculated following [Hobbs et al 2016](10.1016/j.gloplacha.2016.06.008). They added the area of all ocean grid cells that had a sea ice concentration of 15\\% or higher.\n",
    "\n",
    "Sea ice concentration data is the same used in [sea ice concentration comparisons](https://github.com/Fish-MIP/SOMEME/blob/main/scripts/Comparing_sic_data_obs_models.ipynb)."
   ]
  },
  {
   "cell_type": "markdown",
   "id": "d2513ba8-a542-4290-9c7e-6bf19c80068e",
   "metadata": {},
   "source": [
    "## Loading relevant libraries"
   ]
  },
  {
   "cell_type": "code",
   "execution_count": 1,
   "id": "93526c41-8fa2-4d3b-a0bd-bb623aaec3a0",
   "metadata": {},
   "outputs": [],
   "source": [
    "#Packages for file management\n",
    "import os\n",
    "from glob import glob\n",
    "\n",
    "#Data wrangling\n",
    "import pandas as pd\n",
    "import numpy as np\n",
    "import xarray as xr\n",
    "from itertools import cycle\n",
    "import string\n",
    "import re\n",
    "\n",
    "#Packages for plotting\n",
    "import matplotlib.pyplot as plt\n",
    "import matplotlib.colors as mcolors\n",
    "import cmocean as cm\n",
    "import matplotlib.gridspec as gridspec"
   ]
  },
  {
   "cell_type": "markdown",
   "id": "c9efae23-a473-4403-a612-268df93f9979",
   "metadata": {},
   "source": [
    "## Setting working directory"
   ]
  },
  {
   "cell_type": "code",
   "execution_count": 2,
   "id": "878dfa12-a70f-4ee7-8105-2eb9fa35c27a",
   "metadata": {},
   "outputs": [],
   "source": [
    "os.chdir('/g/data/jk72/la6889/FishMIP/SOMEME/')"
   ]
  },
  {
   "cell_type": "markdown",
   "id": "3ec8e32f-aa21-4d65-8c22-662404a7a5a1",
   "metadata": {},
   "source": [
    "## Loading sea ice concentration (SIC) datasets"
   ]
  },
  {
   "cell_type": "code",
   "execution_count": 3,
   "id": "94449e1f-cd74-4469-8df2-d224f6b18381",
   "metadata": {},
   "outputs": [
    {
     "name": "stdout",
     "output_type": "stream",
     "text": [
      "0.3.0\n"
     ]
    }
   ],
   "source": [
    "#Loading GFDL data\n",
    "gfdl_sic = xr.open_dataarray('data/gfdl-mom6-cobalt2_obsclim_siconc_15arcmin_global_monthly_1961_2010.nc')\n",
    "gfdl_sic = gfdl_sic.sel(lat = slice(-30, -90))\n",
    "\n",
    "#Loading GFDL area of grid cells\n",
    "gfdl_area = xr.open_dataarray('data/gfdl-mom6-cobalt2_areacello_15arcmin_global_fixed.nc')\n",
    "#Transform from m2 to km2\n",
    "gfdl_area = gfdl_area.sel(lat = slice(-30, -90))*1e-6\n",
    "\n",
    "#Calculate sea ice extent\n",
    "gfdl_sie = xr.where(gfdl_sic >= 15, gfdl_area, np.nan)\n",
    "gfdl_sie = gfdl_sie.sum(('lat', 'lon'))"
   ]
  },
  {
   "cell_type": "code",
   "execution_count": 4,
   "id": "2930c293-b3d0-472e-bf0c-dd358f5b3b12",
   "metadata": {},
   "outputs": [],
   "source": [
    "gfdl_sie_month_mean = gfdl_sie.groupby('time.month').mean().to_pandas()\n",
    "gfdl_sie_month_mean = gfdl_sie_month_mean.reset_index().rename(columns = {0: 'mean'})\n",
    "gfdl_sie_month_std = gfdl_sie.groupby('time.month').std().to_pandas()\n",
    "gfdl_sie_month_std = gfdl_sie_month_std.reset_index().rename(columns = {0: 'std'})"
   ]
  },
  {
   "cell_type": "code",
   "execution_count": 5,
   "id": "07ee9692-a8f6-4b06-8407-c66d26310684",
   "metadata": {},
   "outputs": [
    {
     "data": {
      "text/plain": [
       "<Axes: xlabel='month'>"
      ]
     },
     "execution_count": 5,
     "metadata": {},
     "output_type": "execute_result"
    },
    {
     "data": {
      "image/png": "[encoded data removed]",
      "text/plain": [
       "<Figure size 640x480 with 1 Axes>"
      ]
     },
     "metadata": {},
     "output_type": "display_data"
    }
   ],
   "source": [
    "gfdl_sie_month_mean.plot(x = 'month',y = 'mean')"
   ]
  },
  {
   "cell_type": "markdown",
   "id": "3aad33c7-e30f-4da6-8fcc-598e33c6744f",
   "metadata": {},
   "source": [
    "We will load climatological means calculated from each CMIP6 model included in our ensemble."
   ]
  },
  {
   "cell_type": "code",
   "execution_count": 6,
   "id": "9a080120-f1c9-4da3-a6ee-71931b4168d1",
   "metadata": {},
   "outputs": [],
   "source": [
    "#Getting list of all models available in folder\n",
    "cmip_files = glob('data/CMIP6/climatologies/*monthly*')\n",
    "\n",
    "#Initiliasing empty list to store results\n",
    "cmip_ds = []\n",
    "\n",
    "#Loop through each file\n",
    "for f in cmip_files:\n",
    "    #Get name of model to add as dimension\n",
    "    model = re.findall('SImon_(.*)_hist', os.path.basename(f))\n",
    "    #load data array\n",
    "    da = xr.open_dataarray(f)\n",
    "    #If \"type\" dimension exists remove it\n",
    "    if 'type' in da.coords:\n",
    "        da = da.drop_vars('type')\n",
    "    #Adding model name and store in empty list\n",
    "    cmip_ds.append(da.expand_dims({'mod': model}))\n",
    "\n",
    "#Create a single data array with all CMIP6 models\n",
    "cmip_ds = xr.concat(cmip_ds, dim = 'mod')\n",
    "\n",
    "#Save regional ensemble data\n",
    "cmip_ds.to_netcdf('data/CMIP6/climatologies/clim_months_all_models.nc')"
   ]
  },
  {
   "cell_type": "markdown",
   "id": "aa3f05ea-bf77-40a0-b97c-79a5db3663a0",
   "metadata": {},
   "source": [
    "## Loading area of grid cells"
   ]
  },
  {
   "cell_type": "code",
   "execution_count": 13,
   "id": "4a6926bb-6f08-4f49-828c-1bb1033bd15f",
   "metadata": {},
   "outputs": [],
   "source": []
  },
  {
   "cell_type": "code",
   "execution_count": null,
   "id": "8d3b3e1a-e49e-4d68-976d-46db64b48152",
   "metadata": {},
   "outputs": [],
   "source": [
    "#Loading observations\n",
    "nsidc_ds = xr.open_dataarray('data/SIC_NASA/sic_nasa_goddard_60arcmin_1982-2010.nc')\n"
   ]
  }
 ],
 "metadata": {
  "kernelspec": {
   "display_name": "Python [conda env:analysis3-23.10] *",
   "language": "python",
   "name": "conda-env-analysis3-23.10-py"
  },
  "language_info": {
   "codemirror_mode": {
    "name": "ipython",
    "version": 3
   },
   "file_extension": ".py",
   "mimetype": "text/x-python",
   "name": "python",
   "nbconvert_exporter": "python",
   "pygments_lexer": "ipython3",
   "version": "3.10.13"
  }
 },
 "nbformat": 4,
 "nbformat_minor": 5
}
