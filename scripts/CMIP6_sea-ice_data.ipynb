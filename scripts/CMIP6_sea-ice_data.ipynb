{
 "cells": [
  {
   "cell_type": "markdown",
   "id": "06e2aac2-3436-459c-a929-4f72ce348591",
   "metadata": {},
   "source": [
    "# CMIP6 sea ice data\n",
    "In this notebook, we will download data from a subset of CMIP6 models that have sea ice concentration (`siconc`), sea surface temperature (`tos`) and primary production (derived from `epc100`, `intpp`, `phyc` and `zooc`) available as outputs. Model outputs for the Southern Ocean (from the Antarctic coastline to $30^{\\circ}$S) will be extracted and standardised using the `xmip` package.  \n",
    "\n",
    "The data will be subsetted across time to the period between January 1982 and December 2010 and finally it will be regridded to match the GFDL-MOM6-COBALT2 data used to force FishMIP models. The regridded CMIP6 data can then be used to compare against GFDL-MOM6-COBALT2 and observations.  "
   ]
  },
  {
   "cell_type": "markdown",
   "id": "6780e1a4-89be-4bb7-9235-5d8b194a081b",
   "metadata": {},
   "source": [
    "## Loading relevant libraries"
   ]
  },
  {
   "cell_type": "code",
   "execution_count": 1,
   "id": "b1c2afdc-b7d2-4ab3-8f33-2ecf9a63ac15",
   "metadata": {},
   "outputs": [],
   "source": [
    "#Downloading data\n",
    "import requests\n",
    "\n",
    "#Loading and manipulating netcdf files\n",
    "from netCDF4 import Dataset\n",
    "import xarray as xr\n",
    "import numpy as np\n",
    "import pandas as pd\n",
    "\n",
    "#Standardisation of CMIP6 data for easy data post-processing\n",
    "from xmip.preprocessing import rename_cmip6, promote_empty_dims, broadcast_lonlat, correct_coordinates\n",
    "\n",
    "#Dealing with file paths\n",
    "import os\n",
    "from glob import glob\n",
    "import re\n",
    "\n",
    "#Regridding\n",
    "import xesmf as xe"
   ]
  },
  {
   "cell_type": "markdown",
   "id": "500e9346-d8a0-4061-a843-2f59434d187e",
   "metadata": {},
   "source": [
    "## Setting working directory"
   ]
  },
  {
   "cell_type": "code",
   "execution_count": 2,
   "id": "a6ade930-656c-4be0-9e8b-3ee51f4030a2",
   "metadata": {},
   "outputs": [],
   "source": [
    "os.chdir('/g/data/jk72/la6889/FishMIP/SOMEME/')"
   ]
  },
  {
   "cell_type": "markdown",
   "id": "30100190-2af9-4aa6-988b-d3f7adff5b74",
   "metadata": {},
   "source": [
    "## Loading information about CMIP6 datasets to be downloaded"
   ]
  },
  {
   "cell_type": "code",
   "execution_count": 84,
   "id": "e720e4ce-88b4-47da-8a2b-138aeb644ade",
   "metadata": {},
   "outputs": [
    {
     "data": {
      "text/html": [
       "<div>\n",
       "<style scoped>\n",
       "    .dataframe tbody tr th:only-of-type {\n",
       "        vertical-align: middle;\n",
       "    }\n",
       "\n",
       "    .dataframe tbody tr th {\n",
       "        vertical-align: top;\n",
       "    }\n",
       "\n",
       "    .dataframe thead th {\n",
       "        text-align: right;\n",
       "    }\n",
       "</style>\n",
       "<table border=\"1\" class=\"dataframe\">\n",
       "  <thead>\n",
       "    <tr style=\"text-align: right;\">\n",
       "      <th></th>\n",
       "      <th>file_id</th>\n",
       "      <th>dataset_id</th>\n",
       "      <th>mip_era</th>\n",
       "      <th>activity_drs</th>\n",
       "      <th>institution_id</th>\n",
       "      <th>source_id</th>\n",
       "      <th>experiment_id</th>\n",
       "      <th>member_id</th>\n",
       "      <th>table_id</th>\n",
       "      <th>frequency</th>\n",
       "      <th>...</th>\n",
       "      <th>variable_id</th>\n",
       "      <th>variable_long_name</th>\n",
       "      <th>variable_units</th>\n",
       "      <th>datetime_start</th>\n",
       "      <th>datetime_end</th>\n",
       "      <th>file_size</th>\n",
       "      <th>data_node</th>\n",
       "      <th>file_url</th>\n",
       "      <th>dataset_pid</th>\n",
       "      <th>tracking_id</th>\n",
       "    </tr>\n",
       "  </thead>\n",
       "  <tbody>\n",
       "    <tr>\n",
       "      <th>0</th>\n",
       "      <td>CMIP6.CMIP.MOHC.UKESM1-0-LL.historical.r9i1p1f...</td>\n",
       "      <td>CMIP6.CMIP.MOHC.UKESM1-0-LL.historical.r9i1p1f...</td>\n",
       "      <td>CMIP6</td>\n",
       "      <td>CMIP</td>\n",
       "      <td>MOHC</td>\n",
       "      <td>UKESM1-0-LL</td>\n",
       "      <td>historical</td>\n",
       "      <td>r9i1p1f2</td>\n",
       "      <td>SImon</td>\n",
       "      <td>mon</td>\n",
       "      <td>...</td>\n",
       "      <td>siconc</td>\n",
       "      <td>Sea-ice Area Percentage (Ocean Grid)</td>\n",
       "      <td>%</td>\n",
       "      <td>1950-01-01T00:00:00Z</td>\n",
       "      <td>2014-12-01T00:00:00Z</td>\n",
       "      <td>57893194</td>\n",
       "      <td>esgf.ceda.ac.uk</td>\n",
       "      <td>https://esgf.ceda.ac.uk/thredds/fileServer/esg...</td>\n",
       "      <td>hdl:21.14100/3dec87f6-3e67-3896-9b88-d36019dc7302</td>\n",
       "      <td>hdl:21.14100/7380f8b5-32a0-4e24-a2b6-42cce691ad2a</td>\n",
       "    </tr>\n",
       "    <tr>\n",
       "      <th>1</th>\n",
       "      <td>CMIP6.CMIP.NCC.NorESM2-LM.historical.r2i1p1f1....</td>\n",
       "      <td>CMIP6.CMIP.NCC.NorESM2-LM.historical.r2i1p1f1....</td>\n",
       "      <td>CMIP6</td>\n",
       "      <td>CMIP</td>\n",
       "      <td>NCC</td>\n",
       "      <td>NorESM2-LM</td>\n",
       "      <td>historical</td>\n",
       "      <td>r2i1p1f1</td>\n",
       "      <td>SImon</td>\n",
       "      <td>mon</td>\n",
       "      <td>...</td>\n",
       "      <td>siconc</td>\n",
       "      <td>Sea-Ice Area Percentage (Ocean Grid)</td>\n",
       "      <td>%</td>\n",
       "      <td>1970-01-01T00:00:00Z</td>\n",
       "      <td>1979-12-01T00:00:00Z</td>\n",
       "      <td>11864106</td>\n",
       "      <td>noresg.nird.sigma2.no</td>\n",
       "      <td>http://noresg.nird.sigma2.no/thredds/fileServe...</td>\n",
       "      <td>hdl:21.14100/66e15d86-03de-3b9d-adc5-d6ebbff5a46d</td>\n",
       "      <td>hdl:21.14100/d6613877-29c6-4c82-b5ef-24864be82223</td>\n",
       "    </tr>\n",
       "    <tr>\n",
       "      <th>2</th>\n",
       "      <td>CMIP6.CMIP.NCC.NorESM2-LM.historical.r2i1p1f1....</td>\n",
       "      <td>CMIP6.CMIP.NCC.NorESM2-LM.historical.r2i1p1f1....</td>\n",
       "      <td>CMIP6</td>\n",
       "      <td>CMIP</td>\n",
       "      <td>NCC</td>\n",
       "      <td>NorESM2-LM</td>\n",
       "      <td>historical</td>\n",
       "      <td>r2i1p1f1</td>\n",
       "      <td>SImon</td>\n",
       "      <td>mon</td>\n",
       "      <td>...</td>\n",
       "      <td>siconc</td>\n",
       "      <td>Sea-Ice Area Percentage (Ocean Grid)</td>\n",
       "      <td>%</td>\n",
       "      <td>1980-01-01T00:00:00Z</td>\n",
       "      <td>1989-12-01T00:00:00Z</td>\n",
       "      <td>11903362</td>\n",
       "      <td>noresg.nird.sigma2.no</td>\n",
       "      <td>http://noresg.nird.sigma2.no/thredds/fileServe...</td>\n",
       "      <td>hdl:21.14100/66e15d86-03de-3b9d-adc5-d6ebbff5a46d</td>\n",
       "      <td>hdl:21.14100/f3cc081b-386e-4ad4-857c-30c1b0e60574</td>\n",
       "    </tr>\n",
       "    <tr>\n",
       "      <th>3</th>\n",
       "      <td>CMIP6.CMIP.NCC.NorESM2-LM.historical.r2i1p1f1....</td>\n",
       "      <td>CMIP6.CMIP.NCC.NorESM2-LM.historical.r2i1p1f1....</td>\n",
       "      <td>CMIP6</td>\n",
       "      <td>CMIP</td>\n",
       "      <td>NCC</td>\n",
       "      <td>NorESM2-LM</td>\n",
       "      <td>historical</td>\n",
       "      <td>r2i1p1f1</td>\n",
       "      <td>SImon</td>\n",
       "      <td>mon</td>\n",
       "      <td>...</td>\n",
       "      <td>siconc</td>\n",
       "      <td>Sea-Ice Area Percentage (Ocean Grid)</td>\n",
       "      <td>%</td>\n",
       "      <td>1990-01-01T00:00:00Z</td>\n",
       "      <td>1999-12-01T00:00:00Z</td>\n",
       "      <td>11897215</td>\n",
       "      <td>noresg.nird.sigma2.no</td>\n",
       "      <td>http://noresg.nird.sigma2.no/thredds/fileServe...</td>\n",
       "      <td>hdl:21.14100/66e15d86-03de-3b9d-adc5-d6ebbff5a46d</td>\n",
       "      <td>hdl:21.14100/e7e789e7-f6ef-4093-9b20-ef9b8998fbbb</td>\n",
       "    </tr>\n",
       "    <tr>\n",
       "      <th>4</th>\n",
       "      <td>CMIP6.CMIP.NCC.NorESM2-LM.historical.r2i1p1f1....</td>\n",
       "      <td>CMIP6.CMIP.NCC.NorESM2-LM.historical.r2i1p1f1....</td>\n",
       "      <td>CMIP6</td>\n",
       "      <td>CMIP</td>\n",
       "      <td>NCC</td>\n",
       "      <td>NorESM2-LM</td>\n",
       "      <td>historical</td>\n",
       "      <td>r2i1p1f1</td>\n",
       "      <td>SImon</td>\n",
       "      <td>mon</td>\n",
       "      <td>...</td>\n",
       "      <td>siconc</td>\n",
       "      <td>Sea-Ice Area Percentage (Ocean Grid)</td>\n",
       "      <td>%</td>\n",
       "      <td>2000-01-01T00:00:00Z</td>\n",
       "      <td>2009-12-01T00:00:00Z</td>\n",
       "      <td>11837306</td>\n",
       "      <td>noresg.nird.sigma2.no</td>\n",
       "      <td>http://noresg.nird.sigma2.no/thredds/fileServe...</td>\n",
       "      <td>hdl:21.14100/66e15d86-03de-3b9d-adc5-d6ebbff5a46d</td>\n",
       "      <td>hdl:21.14100/024c2341-c86f-433d-9e28-2a72cabc1623</td>\n",
       "    </tr>\n",
       "  </tbody>\n",
       "</table>\n",
       "<p>5 rows × 23 columns</p>\n",
       "</div>"
      ],
      "text/plain": [
       "                                             file_id  \\\n",
       "0  CMIP6.CMIP.MOHC.UKESM1-0-LL.historical.r9i1p1f...   \n",
       "1  CMIP6.CMIP.NCC.NorESM2-LM.historical.r2i1p1f1....   \n",
       "2  CMIP6.CMIP.NCC.NorESM2-LM.historical.r2i1p1f1....   \n",
       "3  CMIP6.CMIP.NCC.NorESM2-LM.historical.r2i1p1f1....   \n",
       "4  CMIP6.CMIP.NCC.NorESM2-LM.historical.r2i1p1f1....   \n",
       "\n",
       "                                          dataset_id mip_era activity_drs  \\\n",
       "0  CMIP6.CMIP.MOHC.UKESM1-0-LL.historical.r9i1p1f...   CMIP6         CMIP   \n",
       "1  CMIP6.CMIP.NCC.NorESM2-LM.historical.r2i1p1f1....   CMIP6         CMIP   \n",
       "2  CMIP6.CMIP.NCC.NorESM2-LM.historical.r2i1p1f1....   CMIP6         CMIP   \n",
       "3  CMIP6.CMIP.NCC.NorESM2-LM.historical.r2i1p1f1....   CMIP6         CMIP   \n",
       "4  CMIP6.CMIP.NCC.NorESM2-LM.historical.r2i1p1f1....   CMIP6         CMIP   \n",
       "\n",
       "  institution_id    source_id experiment_id member_id table_id frequency  ...  \\\n",
       "0           MOHC  UKESM1-0-LL    historical  r9i1p1f2    SImon       mon  ...   \n",
       "1            NCC   NorESM2-LM    historical  r2i1p1f1    SImon       mon  ...   \n",
       "2            NCC   NorESM2-LM    historical  r2i1p1f1    SImon       mon  ...   \n",
       "3            NCC   NorESM2-LM    historical  r2i1p1f1    SImon       mon  ...   \n",
       "4            NCC   NorESM2-LM    historical  r2i1p1f1    SImon       mon  ...   \n",
       "\n",
       "  variable_id                    variable_long_name variable_units  \\\n",
       "0      siconc  Sea-ice Area Percentage (Ocean Grid)              %   \n",
       "1      siconc  Sea-Ice Area Percentage (Ocean Grid)              %   \n",
       "2      siconc  Sea-Ice Area Percentage (Ocean Grid)              %   \n",
       "3      siconc  Sea-Ice Area Percentage (Ocean Grid)              %   \n",
       "4      siconc  Sea-Ice Area Percentage (Ocean Grid)              %   \n",
       "\n",
       "         datetime_start          datetime_end file_size  \\\n",
       "0  1950-01-01T00:00:00Z  2014-12-01T00:00:00Z  57893194   \n",
       "1  1970-01-01T00:00:00Z  1979-12-01T00:00:00Z  11864106   \n",
       "2  1980-01-01T00:00:00Z  1989-12-01T00:00:00Z  11903362   \n",
       "3  1990-01-01T00:00:00Z  1999-12-01T00:00:00Z  11897215   \n",
       "4  2000-01-01T00:00:00Z  2009-12-01T00:00:00Z  11837306   \n",
       "\n",
       "               data_node                                           file_url  \\\n",
       "0        esgf.ceda.ac.uk  https://esgf.ceda.ac.uk/thredds/fileServer/esg...   \n",
       "1  noresg.nird.sigma2.no  http://noresg.nird.sigma2.no/thredds/fileServe...   \n",
       "2  noresg.nird.sigma2.no  http://noresg.nird.sigma2.no/thredds/fileServe...   \n",
       "3  noresg.nird.sigma2.no  http://noresg.nird.sigma2.no/thredds/fileServe...   \n",
       "4  noresg.nird.sigma2.no  http://noresg.nird.sigma2.no/thredds/fileServe...   \n",
       "\n",
       "                                         dataset_pid  \\\n",
       "0  hdl:21.14100/3dec87f6-3e67-3896-9b88-d36019dc7302   \n",
       "1  hdl:21.14100/66e15d86-03de-3b9d-adc5-d6ebbff5a46d   \n",
       "2  hdl:21.14100/66e15d86-03de-3b9d-adc5-d6ebbff5a46d   \n",
       "3  hdl:21.14100/66e15d86-03de-3b9d-adc5-d6ebbff5a46d   \n",
       "4  hdl:21.14100/66e15d86-03de-3b9d-adc5-d6ebbff5a46d   \n",
       "\n",
       "                                         tracking_id  \n",
       "0  hdl:21.14100/7380f8b5-32a0-4e24-a2b6-42cce691ad2a  \n",
       "1  hdl:21.14100/d6613877-29c6-4c82-b5ef-24864be82223  \n",
       "2  hdl:21.14100/f3cc081b-386e-4ad4-857c-30c1b0e60574  \n",
       "3  hdl:21.14100/e7e789e7-f6ef-4093-9b20-ef9b8998fbbb  \n",
       "4  hdl:21.14100/024c2341-c86f-433d-9e28-2a72cabc1623  \n",
       "\n",
       "[5 rows x 23 columns]"
      ]
     },
     "execution_count": 84,
     "metadata": {},
     "output_type": "execute_result"
    }
   ],
   "source": [
    "CMIP6_query = pd.read_csv('data/someme_results.csv')\n",
    "CMIP6_query.head()"
   ]
  },
  {
   "cell_type": "markdown",
   "id": "942fe726-9888-43ab-b0e7-ef71ce6f3c38",
   "metadata": {},
   "source": [
    "## Defining functions to standardise CMIP6 outputs"
   ]
  },
  {
   "cell_type": "code",
   "execution_count": 7,
   "id": "7498f7b3-b57a-411d-8f54-27092e4b63b4",
   "metadata": {},
   "outputs": [],
   "source": [
    "def standard(dataset):\n",
    "  #Renaming all variables so they are the same for all models\n",
    "  dataset = rename_cmip6(dataset)\n",
    "  #Adding an index if not included\n",
    "  dataset = promote_empty_dims(dataset)\n",
    "  #Converting coordinates from 1D to 2D arrays\n",
    "  dataset = broadcast_lonlat(dataset)\n",
    "  #Correcting coordinates if needed so they appear in format 0-360 degrees\n",
    "  dataset = correct_coordinates(dataset)\n",
    "  return dataset"
   ]
  },
  {
   "cell_type": "markdown",
   "id": "2e3b29c3-faed-4713-9e2d-818ea410df7d",
   "metadata": {},
   "source": [
    "## Defining function to download CMIP6 outputs\n",
    "This function uses the information provided in the data frame above and downloads data from ESGF servers. CMIP6 outputs are standardised before being subset to cover the Southern Ocean only and finally downloaded."
   ]
  },
  {
   "cell_type": "code",
   "execution_count": 8,
   "id": "721f7211-c961-4480-826f-1e0fa571f902",
   "metadata": {},
   "outputs": [],
   "source": [
    "def download_cmip(url, var, fout):\n",
    "    #Establishes a connection \n",
    "    link = requests.get(url).content\n",
    "    remote = Dataset(var, memory = link)\n",
    "    ds = xr.open_dataset(xr.backends.NetCDF4DataStore(remote))\n",
    "    ds = standard(ds)[var]\n",
    "    ds = ds.where(ds.lat <= -30, drop = True)\n",
    "    ds.to_netcdf(fout)"
   ]
  },
  {
   "cell_type": "markdown",
   "id": "4c825149-07bc-4f30-9fb3-8e2b06c2ed31",
   "metadata": {},
   "source": [
    "## Downloading standardised CMIP6 sea ice data"
   ]
  },
  {
   "cell_type": "code",
   "execution_count": 39,
   "id": "e8e332be-08ce-450f-983b-c84a1da3122a",
   "metadata": {
    "scrolled": true
   },
   "outputs": [],
   "source": [
    "for i in CMIP6_query.index:\n",
    "    row =  CMIP6_query.iloc[i]\n",
    "    [base_file] = re.findall('.*nc', row.file_id.split('|')[0])\n",
    "    fout = os.path.join('data/CMIP6', base_file)\n",
    "    url = row.file_url\n",
    "    var = row.variable_id\n",
    "    download_cmip(url, var, fout)"
   ]
  },
  {
   "cell_type": "markdown",
   "id": "781029fa-01d9-4d8f-bb37-3e3960fb7c27",
   "metadata": {},
   "source": [
    "## Saving data for the period of interesting in a single file\n",
    "To facilitate comparisons, we will save data for the comparison period (January 1982-December 2010) in a single file prior to regridding. Note that the sea ice outputs (`siconc`) coordinates (i.e., latitude and longitude) from CESM2 model need to be corrected. We will use the `areacello` file, which contain the correct coordinate information."
   ]
  },
  {
   "cell_type": "code",
   "execution_count": 3,
   "id": "f9afcf08-f145-412e-8279-ca07d688933a",
   "metadata": {},
   "outputs": [],
   "source": [
    "si_files = glob('data/CMIP6/*SImon*')\n",
    "\n",
    "for m in CMIP6_query.source_id.unique():\n",
    "    mod_files = sorted([f for f in si_files if f'{m}.h' in f])\n",
    "    da = xr.open_mfdataset(mod_files)['siconc'].sel(time = slice('1982', '2010'))\n",
    "    out_name = os.path.basename(mod_files[0])\n",
    "    #Longitude and latitude values need to be corrected in CESM2 data\n",
    "    if 'CESM2.' in out_name:\n",
    "        #Identify CESM areacello file\n",
    "        [ocean] = glob('data/CMIP6/*areacello*CESM2*')\n",
    "        #Load data array\n",
    "        da_ocean = xr.open_dataarray(ocean)\n",
    "        #Start an empty dataset to store corrected coordinates\n",
    "        da_sic_fix = xr.Dataset()\n",
    "        #Add SIC data \n",
    "        da_sic_fix['siconc'] = (('time', 'y', 'x'), da.data)\n",
    "        #Add latitude and longitude from areacello file\n",
    "        da_sic_fix.coords['lat'] = (('y', 'x'), da_ocean['lat'].values)\n",
    "        da_sic_fix.coords['lon'] = (('y', 'x'), da_ocean['lon'].values)\n",
    "        #Add time from the SIC file\n",
    "        da_sic_fix.coords['time'] = (da['time'].values)\n",
    "        #Overwrite SIC file\n",
    "        da = da_sic_fix['siconc']\n",
    "    #Save dataset for period of interest\n",
    "    out_path = os.path.join('data/CMIP6/clean_CMIP6/', re.sub('[0-9]{6}-[0-9]{6}', '198201-201012', out_name))\n",
    "    da.to_netcdf(out_path)"
   ]
  },
  {
   "cell_type": "markdown",
   "id": "ae643efe-24fb-410e-800d-2f275e9b25e5",
   "metadata": {},
   "source": [
    "## Regridding CMIP6 data\n",
    "Before comparisons, we will regrid sea ice data from all CMIP6 models to a common grid. We chose to use GFDL-MOM6-COBALT2 as the target grid because it is in a regular $1^{\\circ}$ horizontal grid."
   ]
  },
  {
   "cell_type": "markdown",
   "id": "23777dc2-4f69-45ee-9437-377d7b3de819",
   "metadata": {},
   "source": [
    "### Loading sample grid from GFDL-MOM6-COBALT2"
   ]
  },
  {
   "cell_type": "code",
   "execution_count": 3,
   "id": "370a80d4-995a-472c-a76b-0aa4e42cd3e0",
   "metadata": {},
   "outputs": [
    {
     "name": "stdout",
     "output_type": "stream",
     "text": [
      "0.3.0\n"
     ]
    },
    {
     "data": {
      "text/plain": [
       "<matplotlib.collections.QuadMesh at 0x1513050b7f10>"
      ]
     },
     "execution_count": 3,
     "metadata": {},
     "output_type": "execute_result"
    },
    {
     "data": {
      "image/png": "[encoded data removed]",
      "text/plain": [
       "<Figure size 640x480 with 2 Axes>"
      ]
     },
     "metadata": {},
     "output_type": "display_data"
    }
   ],
   "source": [
    "#Load GFDL data\n",
    "gfdl_grid = xr.open_dataarray('data/gfdl-mom6-cobalt2_areacello_15arcmin_global_fixed.nc')\n",
    "#Select area of interest\n",
    "gfdl_grid = gfdl_grid.sel(lat = slice(-30, -90))\n",
    "#Check result\n",
    "gfdl_grid.plot()"
   ]
  },
  {
   "cell_type": "markdown",
   "id": "3d60e9ad-1288-4b8d-944b-d4f550f01971",
   "metadata": {},
   "source": [
    "### Regridding CMIP6 data\n",
    "We will use a bilinear algorithm to perform regridding of the clean CMIP6 sea ice outputs."
   ]
  },
  {
   "cell_type": "code",
   "execution_count": 4,
   "id": "be5c18e0-ba2a-4352-804a-3b9a5fef1266",
   "metadata": {},
   "outputs": [],
   "source": [
    "#Getting list of clean CMIP6 files \n",
    "comp_files = glob('data/CMIP6/clean_CMIP6/*.nc')\n",
    "\n",
    "#Regridding data\n",
    "for f in comp_files:\n",
    "    #Get name of file being loaded\n",
    "    fout = re.sub('gn', '15arcmin', os.path.basename(f))\n",
    "    #Load data\n",
    "    ds = xr.open_dataarray(f)\n",
    "    #Calculate regridder\n",
    "    reg = xe.Regridder(ds, gfdl_grid, 'bilinear')\n",
    "    #Apply regridder\n",
    "    ds_reg = reg(ds)\n",
    "    #Save regridded data\n",
    "    ds_reg.to_netcdf(os.path.join('data/CMIP6/regridded_CMIP6/', fout))"
   ]
  },
  {
   "cell_type": "markdown",
   "id": "f1924140-efee-4c4f-bcbd-25884ff8ff77",
   "metadata": {},
   "source": [
    "## Calculating climatological means\n",
    "We will calculate two types of climatologies: seasonal and monthly for each CMIP6 model. We will save these climatologies to allow comparisons later."
   ]
  },
  {
   "cell_type": "code",
   "execution_count": 5,
   "id": "6e38717c-80dc-4d57-aee0-00501878db42",
   "metadata": {},
   "outputs": [],
   "source": [
    "#Get list of regridded CMIP6 data\n",
    "comp_files = glob('data/CMIP6/regridded_CMIP6/*.nc')\n",
    "\n",
    "#Loop through each file\n",
    "for f in comp_files:\n",
    "    #Load regridded data\n",
    "    da = xr.open_dataarray(f)\n",
    "    #Check if maximum SIC values are below 1, if so, multiply by 100\n",
    "    if da.max() <= 1:\n",
    "        da = da*100\n",
    "    #Calculate seasonal and monthly climatologies\n",
    "    da_clim = xr.where(da < 10, np.nan, da).groupby('time.season').mean()\n",
    "    da_month_clim = xr.where(da < 10, np.nan, da).groupby('time.month').mean()\n",
    "    #Create a new file name based on original file name\n",
    "    fout_clim = re.sub('[0-9]{6}-[0-9]{6}', 'seasonal_climatology_1982-2010', os.path.basename(f))\n",
    "    fout_month_clim = re.sub('[0-9]{6}-[0-9]{6}', 'monthly_climatology_1982-2010', os.path.basename(f))\n",
    "    #Save climatologies\n",
    "    da_clim.to_netcdf(os.path.join('data/CMIP6/climatologies/', fout_clim))\n",
    "    da_month_clim.to_netcdf(os.path.join('data/CMIP6/climatologies/', fout_month_clim))"
   ]
  }
 ],
 "metadata": {
  "kernelspec": {
   "display_name": "Python [conda env:analysis3-23.10] *",
   "language": "python",
   "name": "conda-env-analysis3-23.10-py"
  },
  "language_info": {
   "codemirror_mode": {
    "name": "ipython",
    "version": 3
   },
   "file_extension": ".py",
   "mimetype": "text/x-python",
   "name": "python",
   "nbconvert_exporter": "python",
   "pygments_lexer": "ipython3",
   "version": "3.10.13"
  }
 },
 "nbformat": 4,
 "nbformat_minor": 5
}
